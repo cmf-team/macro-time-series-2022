{
 "cells": [
  {
   "cell_type": "markdown",
   "id": "2f3a0dce",
   "metadata": {},
   "source": [
    "# Тесты на стационарность и кросс-корреляции \n"
   ]
  },
  {
   "cell_type": "code",
   "execution_count": 1,
   "id": "5357c684",
   "metadata": {},
   "outputs": [],
   "source": [
    "import pandas as pd\n",
    "import datetime\n",
    "import numpy as np\n",
    "import matplotlib.pyplot as plt\n",
    "import matplotlib as mpl\n",
    "import statsmodels.api as sm\n",
    "import statsmodels.tsa.stattools as tsa\n",
    "from zipfile import ZipFile\n",
    "import os\n",
    "import sys\n",
    "from statsmodels.tsa.stattools import adfuller\n",
    "\n",
    "from statsmodels.graphics.tsaplots import plot_acf\n",
    "from statsmodels.graphics.tsaplots import plot_pacf\n",
    "from statsmodels.tsa.arima.model import ARIMA\n",
    "from statsmodels.stats.diagnostic import acorr_ljungbox \n",
    "from utils import dickey_fuller_test, bkxg_filter, hodrick_prescott_filter\n",
    "from statsmodels.tsa.stattools import kpss\n",
    "from statsmodels.tsa.stattools import coint\n",
    "\n",
    "\n",
    "import warnings\n",
    "warnings.filterwarnings('ignore')\n",
    "mpl.rcParams['figure.figsize'] = (10, 6)\n",
    "mpl.rcParams['figure.dpi'] = 150"
   ]
  },
  {
   "cell_type": "markdown",
   "id": "8ef6b0e5",
   "metadata": {},
   "source": [
    "## Предобработка данных"
   ]
  },
  {
   "cell_type": "code",
   "execution_count": 2,
   "id": "4e80f213",
   "metadata": {
    "scrolled": true
   },
   "outputs": [],
   "source": [
    "df = pd.read_excel('data/Macro_data.xlsx', index_col=0).reset_index()\n",
    "df = df.rename(columns = {\"TIME\": \"date\"})\n",
    "df['date'] = pd.to_datetime(df['date'])\n",
    "df = df[\n",
    "    (df[\"date\"] >= \"1970-01-01\") & \n",
    "    (df[\"date\"] <= \"2001-01-01\")\n",
    "]"
   ]
  },
  {
   "cell_type": "markdown",
   "id": "13f92d14",
   "metadata": {},
   "source": [
    "## Логарифмы"
   ]
  },
  {
   "cell_type": "code",
   "execution_count": 4,
   "id": "1b6f0e8b",
   "metadata": {},
   "outputs": [],
   "source": [
    "df[\"CPI, Index_ln\"], df[\"GDP Real_ln\"] = np.log([df[\"CPI, Index\"], df[\"GDP Real\"]]) "
   ]
  },
  {
   "cell_type": "markdown",
   "id": "f154d956",
   "metadata": {},
   "source": [
    "## Тест Дики-Фуллера"
   ]
  },
  {
   "cell_type": "code",
   "execution_count": 5,
   "id": "a1785874",
   "metadata": {},
   "outputs": [
    {
     "name": "stdout",
     "output_type": "stream",
     "text": [
      "Dickey-Fuller test for CPI, Index\n",
      "------------------------------\n",
      "adf: -0.556\n",
      "p-value: 0.881\n",
      "1%: -3.489\n",
      "5%: -2.887\n",
      "10%: -2.58\n",
      "Есть единичные корни, ряд не стационарен\n",
      "\n",
      "\n"
     ]
    }
   ],
   "source": [
    "dickey_fuller_test(df[\"CPI, Index\"])"
   ]
  },
  {
   "cell_type": "code",
   "execution_count": 6,
   "id": "8860c485",
   "metadata": {},
   "outputs": [
    {
     "name": "stdout",
     "output_type": "stream",
     "text": [
      "Dickey-Fuller test for GDP Real\n",
      "------------------------------\n",
      "adf: 3.018\n",
      "p-value: 1.0\n",
      "1%: -3.491\n",
      "5%: -2.888\n",
      "10%: -2.581\n",
      "Есть единичные корни, ряд не стационарен\n",
      "\n",
      "\n"
     ]
    }
   ],
   "source": [
    "dickey_fuller_test(df[\"GDP Real\"])"
   ]
  },
  {
   "cell_type": "markdown",
   "id": "2881e673",
   "metadata": {},
   "source": [
    "### BXKG"
   ]
  },
  {
   "cell_type": "code",
   "execution_count": 7,
   "id": "feaa101a",
   "metadata": {},
   "outputs": [],
   "source": [
    "for bxkg_params in [(6, 40, 12), (6, 40, 8), (6, 32, 8)]:\n",
    "    df[\n",
    "        [f\"GDP Real_ln_BXKG {bxkg_params}\", \n",
    "         f\"CPI, Index_ln_BXKG {bxkg_params}\"]\n",
    "    ] = bkxg_filter(df[['GDP Real_ln', 'CPI, Index_ln']], bxkg_params)"
   ]
  },
  {
   "cell_type": "markdown",
   "id": "40723012",
   "metadata": {},
   "source": [
    "### Тесты после фильтра"
   ]
  },
  {
   "cell_type": "code",
   "execution_count": 8,
   "id": "28b18111",
   "metadata": {
    "scrolled": true
   },
   "outputs": [
    {
     "name": "stdout",
     "output_type": "stream",
     "text": [
      "Dickey-Fuller test for CPI, Index_ln\n",
      "------------------------------\n",
      "adf: -2.596\n",
      "p-value: 0.094\n",
      "1%: -3.487\n",
      "5%: -2.886\n",
      "10%: -2.58\n",
      "Есть единичные корни, ряд не стационарен\n",
      "\n",
      "\n",
      "Dickey-Fuller test for GDP Real_ln\n",
      "------------------------------\n",
      "adf: 1.385\n",
      "p-value: 0.997\n",
      "1%: -3.491\n",
      "5%: -2.888\n",
      "10%: -2.581\n",
      "Есть единичные корни, ряд не стационарен\n",
      "\n",
      "\n",
      "Dickey-Fuller test for GDP Real_ln_BXKG (6, 40, 12)\n",
      "------------------------------\n",
      "adf: -4.471\n",
      "p-value: 0.0\n",
      "1%: -3.502\n",
      "5%: -2.893\n",
      "10%: -2.583\n",
      "Единичных корней нет, ряд стационарен\n",
      "\n",
      "\n",
      "Dickey-Fuller test for CPI, Index_ln_BXKG (6, 40, 12)\n",
      "------------------------------\n",
      "adf: -2.359\n",
      "p-value: 0.154\n",
      "1%: -3.505\n",
      "5%: -2.894\n",
      "10%: -2.584\n",
      "Есть единичные корни, ряд не стационарен\n",
      "\n",
      "\n",
      "Dickey-Fuller test for GDP Real_ln_BXKG (6, 40, 8)\n",
      "------------------------------\n",
      "adf: -4.464\n",
      "p-value: 0.0\n",
      "1%: -3.5\n",
      "5%: -2.892\n",
      "10%: -2.583\n",
      "Единичных корней нет, ряд стационарен\n",
      "\n",
      "\n",
      "Dickey-Fuller test for CPI, Index_ln_BXKG (6, 40, 8)\n",
      "------------------------------\n",
      "adf: -2.915\n",
      "p-value: 0.044\n",
      "1%: -3.5\n",
      "5%: -2.892\n",
      "10%: -2.583\n",
      "Единичных корней нет, ряд стационарен\n",
      "\n",
      "\n",
      "Dickey-Fuller test for GDP Real_ln_BXKG (6, 32, 8)\n",
      "------------------------------\n",
      "adf: -4.583\n",
      "p-value: 0.0\n",
      "1%: -3.5\n",
      "5%: -2.892\n",
      "10%: -2.583\n",
      "Единичных корней нет, ряд стационарен\n",
      "\n",
      "\n",
      "Dickey-Fuller test for CPI, Index_ln_BXKG (6, 32, 8)\n",
      "------------------------------\n",
      "adf: -1.98\n",
      "p-value: 0.295\n",
      "1%: -3.502\n",
      "5%: -2.893\n",
      "10%: -2.583\n",
      "Есть единичные корни, ряд не стационарен\n",
      "\n",
      "\n"
     ]
    }
   ],
   "source": [
    "for col in ['CPI, Index_ln', 'GDP Real_ln', 'GDP Real_ln_BXKG (6, 40, 12)',\n",
    "       'CPI, Index_ln_BXKG (6, 40, 12)', 'GDP Real_ln_BXKG (6, 40, 8)',\n",
    "       'CPI, Index_ln_BXKG (6, 40, 8)', 'GDP Real_ln_BXKG (6, 32, 8)',\n",
    "       'CPI, Index_ln_BXKG (6, 32, 8)']:\n",
    "    dickey_fuller_test(df[col])"
   ]
  },
  {
   "cell_type": "markdown",
   "id": "388ef596",
   "metadata": {},
   "source": [
    "### Hodrick-Prescott Filter"
   ]
  },
  {
   "cell_type": "code",
   "execution_count": 9,
   "id": "a63299bd",
   "metadata": {},
   "outputs": [],
   "source": [
    "for col in [\"GDP Real_ln\", \"CPI, Index_ln\"]:\n",
    "    cycle, trend = hodrick_prescott_filter(df[col])\n",
    "    df[f'{col}_HP'] = cycle\n"
   ]
  },
  {
   "cell_type": "markdown",
   "id": "b37d0e3d",
   "metadata": {},
   "source": [
    "## Кросcкорреляции"
   ]
  },
  {
   "cell_type": "code",
   "execution_count": 10,
   "id": "9aac0435",
   "metadata": {},
   "outputs": [],
   "source": [
    "def get_corr_cols_list(df, value):\n",
    "    return [f\"{value}_HP\", f\"{value}_BXKG (6, 40, 8)\", \n",
    "            f\"{value}_BXKG (6, 32, 8)\", f\"{value}_BXKG (6, 40, 12)\"]\n",
    "\n",
    "def get_corrs_and_stds(df, value):\n",
    "    columns = get_corr_cols_list(df, value)\n",
    "    stds = df[columns].std().reset_index()\n",
    "    corrs = df[columns].corr().reset_index()\n",
    "    res = stds.merge(corrs)\n",
    "    res = res.rename(columns = {0: \"std\"})\n",
    "    return res\n"
   ]
  },
  {
   "cell_type": "markdown",
   "id": "a732b23b",
   "metadata": {},
   "source": [
    "### GDP"
   ]
  },
  {
   "cell_type": "code",
   "execution_count": 12,
   "id": "8ea2d1f7",
   "metadata": {
    "scrolled": true
   },
   "outputs": [
    {
     "data": {
      "text/html": [
       "<div>\n",
       "<style scoped>\n",
       "    .dataframe tbody tr th:only-of-type {\n",
       "        vertical-align: middle;\n",
       "    }\n",
       "\n",
       "    .dataframe tbody tr th {\n",
       "        vertical-align: top;\n",
       "    }\n",
       "\n",
       "    .dataframe thead th {\n",
       "        text-align: right;\n",
       "    }\n",
       "</style>\n",
       "<table border=\"1\" class=\"dataframe\">\n",
       "  <thead>\n",
       "    <tr style=\"text-align: right;\">\n",
       "      <th></th>\n",
       "      <th>index</th>\n",
       "      <th>std</th>\n",
       "      <th>GDP Real_ln_HP</th>\n",
       "      <th>GDP Real_ln_BXKG (6, 40, 8)</th>\n",
       "      <th>GDP Real_ln_BXKG (6, 32, 8)</th>\n",
       "      <th>GDP Real_ln_BXKG (6, 40, 12)</th>\n",
       "    </tr>\n",
       "  </thead>\n",
       "  <tbody>\n",
       "    <tr>\n",
       "      <th>0</th>\n",
       "      <td>GDP Real_ln_HP</td>\n",
       "      <td>0.015946</td>\n",
       "      <td>1.000000</td>\n",
       "      <td>0.920389</td>\n",
       "      <td>0.914373</td>\n",
       "      <td>0.967897</td>\n",
       "    </tr>\n",
       "    <tr>\n",
       "      <th>1</th>\n",
       "      <td>GDP Real_ln_BXKG (6, 40, 8)</td>\n",
       "      <td>0.012695</td>\n",
       "      <td>0.920389</td>\n",
       "      <td>1.000000</td>\n",
       "      <td>0.999761</td>\n",
       "      <td>0.940263</td>\n",
       "    </tr>\n",
       "    <tr>\n",
       "      <th>2</th>\n",
       "      <td>GDP Real_ln_BXKG (6, 32, 8)</td>\n",
       "      <td>0.012220</td>\n",
       "      <td>0.914373</td>\n",
       "      <td>0.999761</td>\n",
       "      <td>1.000000</td>\n",
       "      <td>0.933799</td>\n",
       "    </tr>\n",
       "    <tr>\n",
       "      <th>3</th>\n",
       "      <td>GDP Real_ln_BXKG (6, 40, 12)</td>\n",
       "      <td>0.017552</td>\n",
       "      <td>0.967897</td>\n",
       "      <td>0.940263</td>\n",
       "      <td>0.933799</td>\n",
       "      <td>1.000000</td>\n",
       "    </tr>\n",
       "  </tbody>\n",
       "</table>\n",
       "</div>"
      ],
      "text/plain": [
       "                          index       std  GDP Real_ln_HP  \\\n",
       "0                GDP Real_ln_HP  0.015946        1.000000   \n",
       "1   GDP Real_ln_BXKG (6, 40, 8)  0.012695        0.920389   \n",
       "2   GDP Real_ln_BXKG (6, 32, 8)  0.012220        0.914373   \n",
       "3  GDP Real_ln_BXKG (6, 40, 12)  0.017552        0.967897   \n",
       "\n",
       "   GDP Real_ln_BXKG (6, 40, 8)  GDP Real_ln_BXKG (6, 32, 8)  \\\n",
       "0                     0.920389                     0.914373   \n",
       "1                     1.000000                     0.999761   \n",
       "2                     0.999761                     1.000000   \n",
       "3                     0.940263                     0.933799   \n",
       "\n",
       "   GDP Real_ln_BXKG (6, 40, 12)  \n",
       "0                      0.967897  \n",
       "1                      0.940263  \n",
       "2                      0.933799  \n",
       "3                      1.000000  "
      ]
     },
     "execution_count": 12,
     "metadata": {},
     "output_type": "execute_result"
    }
   ],
   "source": [
    "get_corrs_and_stds(df, \"GDP Real_ln\")"
   ]
  },
  {
   "cell_type": "markdown",
   "id": "b6fa4943",
   "metadata": {},
   "source": [
    "### CPI"
   ]
  },
  {
   "cell_type": "code",
   "execution_count": 13,
   "id": "5d6f27f8",
   "metadata": {},
   "outputs": [
    {
     "data": {
      "text/html": [
       "<div>\n",
       "<style scoped>\n",
       "    .dataframe tbody tr th:only-of-type {\n",
       "        vertical-align: middle;\n",
       "    }\n",
       "\n",
       "    .dataframe tbody tr th {\n",
       "        vertical-align: top;\n",
       "    }\n",
       "\n",
       "    .dataframe thead th {\n",
       "        text-align: right;\n",
       "    }\n",
       "</style>\n",
       "<table border=\"1\" class=\"dataframe\">\n",
       "  <thead>\n",
       "    <tr style=\"text-align: right;\">\n",
       "      <th></th>\n",
       "      <th>index</th>\n",
       "      <th>std</th>\n",
       "      <th>CPI, Index_ln_HP</th>\n",
       "      <th>CPI, Index_ln_BXKG (6, 40, 8)</th>\n",
       "      <th>CPI, Index_ln_BXKG (6, 32, 8)</th>\n",
       "      <th>CPI, Index_ln_BXKG (6, 40, 12)</th>\n",
       "    </tr>\n",
       "  </thead>\n",
       "  <tbody>\n",
       "    <tr>\n",
       "      <th>0</th>\n",
       "      <td>CPI, Index_ln_HP</td>\n",
       "      <td>0.015256</td>\n",
       "      <td>1.000000</td>\n",
       "      <td>0.956726</td>\n",
       "      <td>0.954414</td>\n",
       "      <td>0.972024</td>\n",
       "    </tr>\n",
       "    <tr>\n",
       "      <th>1</th>\n",
       "      <td>CPI, Index_ln_BXKG (6, 40, 8)</td>\n",
       "      <td>0.010450</td>\n",
       "      <td>0.956726</td>\n",
       "      <td>1.000000</td>\n",
       "      <td>0.999898</td>\n",
       "      <td>0.968745</td>\n",
       "    </tr>\n",
       "    <tr>\n",
       "      <th>2</th>\n",
       "      <td>CPI, Index_ln_BXKG (6, 32, 8)</td>\n",
       "      <td>0.009901</td>\n",
       "      <td>0.954414</td>\n",
       "      <td>0.999898</td>\n",
       "      <td>1.000000</td>\n",
       "      <td>0.965601</td>\n",
       "    </tr>\n",
       "    <tr>\n",
       "      <th>3</th>\n",
       "      <td>CPI, Index_ln_BXKG (6, 40, 12)</td>\n",
       "      <td>0.017444</td>\n",
       "      <td>0.972024</td>\n",
       "      <td>0.968745</td>\n",
       "      <td>0.965601</td>\n",
       "      <td>1.000000</td>\n",
       "    </tr>\n",
       "  </tbody>\n",
       "</table>\n",
       "</div>"
      ],
      "text/plain": [
       "                            index       std  CPI, Index_ln_HP  \\\n",
       "0                CPI, Index_ln_HP  0.015256          1.000000   \n",
       "1   CPI, Index_ln_BXKG (6, 40, 8)  0.010450          0.956726   \n",
       "2   CPI, Index_ln_BXKG (6, 32, 8)  0.009901          0.954414   \n",
       "3  CPI, Index_ln_BXKG (6, 40, 12)  0.017444          0.972024   \n",
       "\n",
       "   CPI, Index_ln_BXKG (6, 40, 8)  CPI, Index_ln_BXKG (6, 32, 8)  \\\n",
       "0                       0.956726                       0.954414   \n",
       "1                       1.000000                       0.999898   \n",
       "2                       0.999898                       1.000000   \n",
       "3                       0.968745                       0.965601   \n",
       "\n",
       "   CPI, Index_ln_BXKG (6, 40, 12)  \n",
       "0                        0.972024  \n",
       "1                        0.968745  \n",
       "2                        0.965601  \n",
       "3                        1.000000  "
      ]
     },
     "execution_count": 13,
     "metadata": {},
     "output_type": "execute_result"
    }
   ],
   "source": [
    "get_corrs_and_stds(df, \"CPI, Index_ln\")"
   ]
  }
 ],
 "metadata": {
  "kernelspec": {
   "display_name": "Python 3 (ipykernel)",
   "language": "python",
   "name": "python3"
  },
  "language_info": {
   "codemirror_mode": {
    "name": "ipython",
    "version": 3
   },
   "file_extension": ".py",
   "mimetype": "text/x-python",
   "name": "python",
   "nbconvert_exporter": "python",
   "pygments_lexer": "ipython3",
   "version": "3.8.13"
  },
  "vscode": {
   "interpreter": {
    "hash": "a2eb1cc65c1cd3482bb506e74265dd8500e20c6cb1477154dcf5a78d31810c3d"
   }
  }
 },
 "nbformat": 4,
 "nbformat_minor": 5
}
