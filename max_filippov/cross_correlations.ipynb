{
 "cells": [
  {
   "cell_type": "code",
   "execution_count": 95,
   "metadata": {
    "collapsed": true
   },
   "outputs": [],
   "source": [
    "import pandas as pd\n",
    "import numpy as np\n",
    "import matplotlib.pyplot as plt\n",
    "from statsmodels.tsa.stattools import adfuller\n",
    "import statsmodels.api as sm"
   ]
  },
  {
   "cell_type": "markdown",
   "source": [
    "Data preparation"
   ],
   "metadata": {
    "collapsed": false
   }
  },
  {
   "cell_type": "code",
   "execution_count": 96,
   "outputs": [],
   "source": [
    "data = pd.read_excel('data/Macro_data.xlsx', index_col=0).reset_index()\n",
    "data = data.rename(columns={\"TIME\": \"date\"})\n",
    "data['date'] = pd.to_datetime(data['date'])\n",
    "data = data[(data['date'] >= \"1970-01-01\") & (data['date'] <= \"2001-01-01\")]"
   ],
   "metadata": {
    "collapsed": false
   }
  },
  {
   "cell_type": "code",
   "execution_count": 97,
   "outputs": [
    {
     "data": {
      "text/plain": "        date   GDP Nominal      GDP Real  Private Consumtion   Investments  \\\n0 1970-01-01  1.051200e+12  4.939759e+12        1.579212e+11  5.759530e+11   \n1 1970-04-01  1.067375e+12  4.946770e+12        1.603925e+11  5.772050e+11   \n2 1970-07-01  1.086059e+12  4.992357e+12        1.633705e+11  5.865980e+11   \n3 1970-10-01  1.088608e+12  4.938857e+12        1.650402e+11  5.554540e+11   \n4 1971-01-01  1.135156e+12  5.072996e+12        1.697965e+11  6.202120e+11   \n\n    Residential  Non-Residential  Changes in inventories  \\\n0  4.249300e+10     1.237960e+11            1.823000e+09   \n1  4.136500e+10     1.250080e+11            5.081000e+09   \n2  4.256600e+10     1.262550e+11            5.083000e+09   \n3  4.721800e+10     1.235200e+11           -3.984000e+09   \n4  5.096100e+10     1.262810e+11            1.225400e+10   \n\n   Cumulated Chnge in iventories  Total export  Total import  \\\n0                     1823000000  5.703100e+10  5.351700e+10   \n1                     6904000000  6.041100e+10  5.520400e+10   \n2                    11987000000  6.051900e+10  5.643100e+10   \n3                     8003000000  6.087300e+10  5.788800e+10   \n4                    20257000000  6.322100e+10  5.865100e+10   \n\n   Government Consumption Expenditures  GDP Deflator  Consumption Deflator  \\\n0                         2.478890e+11      0.212804             17.416415   \n1                         2.491430e+11      0.215772             17.629837   \n2                         2.545840e+11      0.217544             17.806946   \n3                         2.587080e+11      0.220417             18.027467   \n4                         2.619050e+11      0.223764             18.182825   \n\n   CPI, Index  Industrial production Index  Share prices  Unemployment  \\\n0   38.100000                      37.9469       6.34526         0.044   \n1   38.633333                      37.6830       5.56439         0.049   \n2   39.033333                      37.4482       5.48283         0.054   \n3   39.600000                      37.3145       6.01062         0.061   \n4   39.933333                      37.4892       6.80859         0.060   \n\n   Personal Consumprion Expenditure   \n0                       1.895000e+12  \n1                       1.924700e+12  \n2                       1.960500e+12  \n3                       1.980500e+12  \n4                       2.037500e+12  ",
      "text/html": "<div>\n<style scoped>\n    .dataframe tbody tr th:only-of-type {\n        vertical-align: middle;\n    }\n\n    .dataframe tbody tr th {\n        vertical-align: top;\n    }\n\n    .dataframe thead th {\n        text-align: right;\n    }\n</style>\n<table border=\"1\" class=\"dataframe\">\n  <thead>\n    <tr style=\"text-align: right;\">\n      <th></th>\n      <th>date</th>\n      <th>GDP Nominal</th>\n      <th>GDP Real</th>\n      <th>Private Consumtion</th>\n      <th>Investments</th>\n      <th>Residential</th>\n      <th>Non-Residential</th>\n      <th>Changes in inventories</th>\n      <th>Cumulated Chnge in iventories</th>\n      <th>Total export</th>\n      <th>Total import</th>\n      <th>Government Consumption Expenditures</th>\n      <th>GDP Deflator</th>\n      <th>Consumption Deflator</th>\n      <th>CPI, Index</th>\n      <th>Industrial production Index</th>\n      <th>Share prices</th>\n      <th>Unemployment</th>\n      <th>Personal Consumprion Expenditure</th>\n    </tr>\n  </thead>\n  <tbody>\n    <tr>\n      <th>0</th>\n      <td>1970-01-01</td>\n      <td>1.051200e+12</td>\n      <td>4.939759e+12</td>\n      <td>1.579212e+11</td>\n      <td>5.759530e+11</td>\n      <td>4.249300e+10</td>\n      <td>1.237960e+11</td>\n      <td>1.823000e+09</td>\n      <td>1823000000</td>\n      <td>5.703100e+10</td>\n      <td>5.351700e+10</td>\n      <td>2.478890e+11</td>\n      <td>0.212804</td>\n      <td>17.416415</td>\n      <td>38.100000</td>\n      <td>37.9469</td>\n      <td>6.34526</td>\n      <td>0.044</td>\n      <td>1.895000e+12</td>\n    </tr>\n    <tr>\n      <th>1</th>\n      <td>1970-04-01</td>\n      <td>1.067375e+12</td>\n      <td>4.946770e+12</td>\n      <td>1.603925e+11</td>\n      <td>5.772050e+11</td>\n      <td>4.136500e+10</td>\n      <td>1.250080e+11</td>\n      <td>5.081000e+09</td>\n      <td>6904000000</td>\n      <td>6.041100e+10</td>\n      <td>5.520400e+10</td>\n      <td>2.491430e+11</td>\n      <td>0.215772</td>\n      <td>17.629837</td>\n      <td>38.633333</td>\n      <td>37.6830</td>\n      <td>5.56439</td>\n      <td>0.049</td>\n      <td>1.924700e+12</td>\n    </tr>\n    <tr>\n      <th>2</th>\n      <td>1970-07-01</td>\n      <td>1.086059e+12</td>\n      <td>4.992357e+12</td>\n      <td>1.633705e+11</td>\n      <td>5.865980e+11</td>\n      <td>4.256600e+10</td>\n      <td>1.262550e+11</td>\n      <td>5.083000e+09</td>\n      <td>11987000000</td>\n      <td>6.051900e+10</td>\n      <td>5.643100e+10</td>\n      <td>2.545840e+11</td>\n      <td>0.217544</td>\n      <td>17.806946</td>\n      <td>39.033333</td>\n      <td>37.4482</td>\n      <td>5.48283</td>\n      <td>0.054</td>\n      <td>1.960500e+12</td>\n    </tr>\n    <tr>\n      <th>3</th>\n      <td>1970-10-01</td>\n      <td>1.088608e+12</td>\n      <td>4.938857e+12</td>\n      <td>1.650402e+11</td>\n      <td>5.554540e+11</td>\n      <td>4.721800e+10</td>\n      <td>1.235200e+11</td>\n      <td>-3.984000e+09</td>\n      <td>8003000000</td>\n      <td>6.087300e+10</td>\n      <td>5.788800e+10</td>\n      <td>2.587080e+11</td>\n      <td>0.220417</td>\n      <td>18.027467</td>\n      <td>39.600000</td>\n      <td>37.3145</td>\n      <td>6.01062</td>\n      <td>0.061</td>\n      <td>1.980500e+12</td>\n    </tr>\n    <tr>\n      <th>4</th>\n      <td>1971-01-01</td>\n      <td>1.135156e+12</td>\n      <td>5.072996e+12</td>\n      <td>1.697965e+11</td>\n      <td>6.202120e+11</td>\n      <td>5.096100e+10</td>\n      <td>1.262810e+11</td>\n      <td>1.225400e+10</td>\n      <td>20257000000</td>\n      <td>6.322100e+10</td>\n      <td>5.865100e+10</td>\n      <td>2.619050e+11</td>\n      <td>0.223764</td>\n      <td>18.182825</td>\n      <td>39.933333</td>\n      <td>37.4892</td>\n      <td>6.80859</td>\n      <td>0.060</td>\n      <td>2.037500e+12</td>\n    </tr>\n  </tbody>\n</table>\n</div>"
     },
     "execution_count": 97,
     "metadata": {},
     "output_type": "execute_result"
    }
   ],
   "source": [
    "data.dropna(inplace=True)\n",
    "data.head()"
   ],
   "metadata": {
    "collapsed": false
   }
  },
  {
   "cell_type": "markdown",
   "source": [
    "Auxiliary func"
   ],
   "metadata": {
    "collapsed": false
   }
  },
  {
   "cell_type": "code",
   "execution_count": 98,
   "outputs": [],
   "source": [
    "def dickey_fuller_test(series):\n",
    "    res = adfuller(series)\n",
    "    print(\"Adfuller for  {} | adf: {:.3f} | p-value: {:.3f}\".format(series.name, res[0], res[1]))\n",
    "    if res[1] > 0.05:\n",
    "        print('Non-stationary')\n",
    "    else:\n",
    "        print('Stationary')\n",
    "\n",
    "\n",
    "def bkfilter(series, params):\n",
    "    return sm.tsa.filters.bkfilter(series, params[0], params[1], params[2])\n",
    "\n",
    "\n",
    "def hodrick_prescott_filter(series):\n",
    "    return sm.tsa.filters.hpfilter(series)\n",
    "\n",
    "\n",
    "def crosscorr(x, y, lag=0):\n",
    "    return x.corr(y.shift(lag))"
   ],
   "metadata": {
    "collapsed": false
   }
  },
  {
   "cell_type": "markdown",
   "source": [
    "Wrapping cross correlations into func"
   ],
   "metadata": {
    "collapsed": false
   }
  },
  {
   "cell_type": "code",
   "execution_count": 99,
   "outputs": [],
   "source": [
    "def calculate_cross_corrs(series, col):\n",
    "    series[f\"{col}_ln\"] = np.log(series[col])\n",
    "    for params in [(6, 40, 12), (6, 40, 8), (6, 32, 8)]:\n",
    "        series[f\"{col}_ln_BXKG {params}\"] = bkfilter(series[f\"{col}_ln\"], params)\n",
    "    cycle, trend = hodrick_prescott_filter(series[f\"{col}_ln\"])\n",
    "    series[f'{col}_ln_HP'] = cycle\n",
    "    column_to_show = [f\"{col}_ln_HP\", f\"{col}_ln_BXKG (6, 40, 8)\",  f\"{col}_ln_BXKG (6, 32, 8)\", f\"{col}_ln_BXKG (6, 40, 12)\"]\n",
    "\n",
    "    series.dropna(inplace=True)\n",
    "    for column in series.columns.values:\n",
    "        dickey_fuller_test(series[column])\n",
    "\n",
    "    stds = series[column_to_show].std().round(3).reset_index()\n",
    "    corrs = series[column_to_show].corr().round(3).reset_index()\n",
    "    res = stds.merge(corrs)\n",
    "    return res.rename(columns={0: \"std\"})"
   ],
   "metadata": {
    "collapsed": false
   }
  },
  {
   "cell_type": "markdown",
   "source": [
    "Adfuller + cross correlations"
   ],
   "metadata": {
    "collapsed": false
   }
  },
  {
   "cell_type": "code",
   "execution_count": 100,
   "outputs": [
    {
     "name": "stdout",
     "output_type": "stream",
     "text": [
      "Adfuller for  date | adf: -0.183 | p-value: 0.940\n",
      "Non-stationary\n",
      "Adfuller for  GDP Nominal | adf: 4.001 | p-value: 1.000\n",
      "Non-stationary\n",
      "Adfuller for  GDP Real | adf: 2.007 | p-value: 0.999\n",
      "Non-stationary\n",
      "Adfuller for  Private Consumtion | adf: 3.899 | p-value: 1.000\n",
      "Non-stationary\n",
      "Adfuller for  Investments | adf: 0.985 | p-value: 0.994\n",
      "Non-stationary\n",
      "Adfuller for  Residential | adf: 0.045 | p-value: 0.962\n",
      "Non-stationary\n",
      "Adfuller for  Non-Residential | adf: 1.121 | p-value: 0.995\n",
      "Non-stationary\n",
      "Adfuller for  Changes in inventories | adf: -4.106 | p-value: 0.001\n",
      "Stationary\n",
      "Adfuller for  Cumulated Chnge in iventories | adf: 2.575 | p-value: 0.999\n",
      "Non-stationary\n",
      "Adfuller for  Total export | adf: 1.876 | p-value: 0.998\n",
      "Non-stationary\n",
      "Adfuller for  Total import | adf: 3.514 | p-value: 1.000\n",
      "Non-stationary\n",
      "Adfuller for  Government Consumption Expenditures | adf: 0.978 | p-value: 0.994\n",
      "Non-stationary\n",
      "Adfuller for  GDP Deflator | adf: -1.894 | p-value: 0.335\n",
      "Non-stationary\n",
      "Adfuller for  Consumption Deflator | adf: -1.721 | p-value: 0.420\n",
      "Non-stationary\n",
      "Adfuller for  CPI, Index | adf: -1.003 | p-value: 0.752\n",
      "Non-stationary\n",
      "Adfuller for  Industrial production Index | adf: 1.595 | p-value: 0.998\n",
      "Non-stationary\n",
      "Adfuller for  Share prices | adf: 6.006 | p-value: 1.000\n",
      "Non-stationary\n",
      "Adfuller for  Unemployment | adf: -2.902 | p-value: 0.045\n",
      "Stationary\n",
      "Adfuller for  Personal Consumprion Expenditure  | adf: 3.901 | p-value: 1.000\n",
      "Non-stationary\n",
      "Adfuller for  GDP Real_ln | adf: 0.279 | p-value: 0.976\n",
      "Non-stationary\n",
      "Adfuller for  GDP Real_ln_BXKG (6, 40, 12) | adf: -4.471 | p-value: 0.000\n",
      "Stationary\n",
      "Adfuller for  GDP Real_ln_BXKG (6, 40, 8) | adf: -4.315 | p-value: 0.000\n",
      "Stationary\n",
      "Adfuller for  GDP Real_ln_BXKG (6, 32, 8) | adf: -4.474 | p-value: 0.000\n",
      "Stationary\n",
      "Adfuller for  GDP Real_ln_HP | adf: -3.682 | p-value: 0.004\n",
      "Stationary\n"
     ]
    },
    {
     "data": {
      "text/plain": "                          index    std  GDP Real_ln_HP  \\\n0                GDP Real_ln_HP  0.017           1.000   \n1   GDP Real_ln_BXKG (6, 40, 8)  0.013           0.924   \n2   GDP Real_ln_BXKG (6, 32, 8)  0.013           0.918   \n3  GDP Real_ln_BXKG (6, 40, 12)  0.018           0.968   \n\n   GDP Real_ln_BXKG (6, 40, 8)  GDP Real_ln_BXKG (6, 32, 8)  \\\n0                        0.924                        0.918   \n1                        1.000                        1.000   \n2                        1.000                        1.000   \n3                        0.940                        0.934   \n\n   GDP Real_ln_BXKG (6, 40, 12)  \n0                         0.968  \n1                         0.940  \n2                         0.934  \n3                         1.000  ",
      "text/html": "<div>\n<style scoped>\n    .dataframe tbody tr th:only-of-type {\n        vertical-align: middle;\n    }\n\n    .dataframe tbody tr th {\n        vertical-align: top;\n    }\n\n    .dataframe thead th {\n        text-align: right;\n    }\n</style>\n<table border=\"1\" class=\"dataframe\">\n  <thead>\n    <tr style=\"text-align: right;\">\n      <th></th>\n      <th>index</th>\n      <th>std</th>\n      <th>GDP Real_ln_HP</th>\n      <th>GDP Real_ln_BXKG (6, 40, 8)</th>\n      <th>GDP Real_ln_BXKG (6, 32, 8)</th>\n      <th>GDP Real_ln_BXKG (6, 40, 12)</th>\n    </tr>\n  </thead>\n  <tbody>\n    <tr>\n      <th>0</th>\n      <td>GDP Real_ln_HP</td>\n      <td>0.017</td>\n      <td>1.000</td>\n      <td>0.924</td>\n      <td>0.918</td>\n      <td>0.968</td>\n    </tr>\n    <tr>\n      <th>1</th>\n      <td>GDP Real_ln_BXKG (6, 40, 8)</td>\n      <td>0.013</td>\n      <td>0.924</td>\n      <td>1.000</td>\n      <td>1.000</td>\n      <td>0.940</td>\n    </tr>\n    <tr>\n      <th>2</th>\n      <td>GDP Real_ln_BXKG (6, 32, 8)</td>\n      <td>0.013</td>\n      <td>0.918</td>\n      <td>1.000</td>\n      <td>1.000</td>\n      <td>0.934</td>\n    </tr>\n    <tr>\n      <th>3</th>\n      <td>GDP Real_ln_BXKG (6, 40, 12)</td>\n      <td>0.018</td>\n      <td>0.968</td>\n      <td>0.940</td>\n      <td>0.934</td>\n      <td>1.000</td>\n    </tr>\n  </tbody>\n</table>\n</div>"
     },
     "execution_count": 100,
     "metadata": {},
     "output_type": "execute_result"
    }
   ],
   "source": [
    "gdp_real_matrix = calculate_cross_corrs(data, 'GDP Real')\n",
    "gdp_real_matrix"
   ],
   "metadata": {
    "collapsed": false
   }
  },
  {
   "cell_type": "code",
   "execution_count": 101,
   "outputs": [
    {
     "name": "stdout",
     "output_type": "stream",
     "text": [
      "Adfuller for  date | adf: -0.157 | p-value: 0.943\n",
      "Non-stationary\n",
      "Adfuller for  GDP Nominal | adf: 3.076 | p-value: 1.000\n",
      "Non-stationary\n",
      "Adfuller for  GDP Real | adf: 0.985 | p-value: 0.994\n",
      "Non-stationary\n",
      "Adfuller for  Private Consumtion | adf: 4.533 | p-value: 1.000\n",
      "Non-stationary\n",
      "Adfuller for  Investments | adf: -0.558 | p-value: 0.880\n",
      "Non-stationary\n",
      "Adfuller for  Residential | adf: -0.814 | p-value: 0.815\n",
      "Non-stationary\n",
      "Adfuller for  Non-Residential | adf: -0.501 | p-value: 0.892\n",
      "Non-stationary\n",
      "Adfuller for  Changes in inventories | adf: -3.954 | p-value: 0.002\n",
      "Stationary\n",
      "Adfuller for  Cumulated Chnge in iventories | adf: 0.797 | p-value: 0.992\n",
      "Non-stationary\n",
      "Adfuller for  Total export | adf: 1.371 | p-value: 0.997\n",
      "Non-stationary\n",
      "Adfuller for  Total import | adf: 1.728 | p-value: 0.998\n",
      "Non-stationary\n",
      "Adfuller for  Government Consumption Expenditures | adf: 0.186 | p-value: 0.971\n",
      "Non-stationary\n",
      "Adfuller for  GDP Deflator | adf: -2.368 | p-value: 0.151\n",
      "Non-stationary\n",
      "Adfuller for  Consumption Deflator | adf: -1.846 | p-value: 0.358\n",
      "Non-stationary\n",
      "Adfuller for  CPI, Index | adf: -1.390 | p-value: 0.587\n",
      "Non-stationary\n",
      "Adfuller for  Industrial production Index | adf: 0.030 | p-value: 0.961\n",
      "Non-stationary\n",
      "Adfuller for  Share prices | adf: 0.537 | p-value: 0.986\n",
      "Non-stationary\n",
      "Adfuller for  Unemployment | adf: -2.420 | p-value: 0.136\n",
      "Non-stationary\n",
      "Adfuller for  Personal Consumprion Expenditure  | adf: 4.533 | p-value: 1.000\n",
      "Non-stationary\n",
      "Adfuller for  GDP Real_ln | adf: 0.048 | p-value: 0.962\n",
      "Non-stationary\n",
      "Adfuller for  GDP Real_ln_BXKG (6, 40, 12) | adf: -3.615 | p-value: 0.005\n",
      "Stationary\n",
      "Adfuller for  GDP Real_ln_BXKG (6, 40, 8) | adf: -3.342 | p-value: 0.013\n",
      "Stationary\n",
      "Adfuller for  GDP Real_ln_BXKG (6, 32, 8) | adf: -3.484 | p-value: 0.008\n",
      "Stationary\n",
      "Adfuller for  GDP Real_ln_HP | adf: -2.283 | p-value: 0.177\n",
      "Non-stationary\n",
      "Adfuller for  Personal Consumprion Expenditure _ln | adf: -5.786 | p-value: 0.000\n",
      "Stationary\n",
      "Adfuller for  Personal Consumprion Expenditure _ln_BXKG (6, 40, 12) | adf: -4.312 | p-value: 0.000\n",
      "Stationary\n",
      "Adfuller for  Personal Consumprion Expenditure _ln_BXKG (6, 40, 8) | adf: -5.449 | p-value: 0.000\n",
      "Stationary\n",
      "Adfuller for  Personal Consumprion Expenditure _ln_BXKG (6, 32, 8) | adf: -5.366 | p-value: 0.000\n",
      "Stationary\n",
      "Adfuller for  Personal Consumprion Expenditure _ln_HP | adf: -3.564 | p-value: 0.006\n",
      "Stationary\n"
     ]
    },
    {
     "data": {
      "text/plain": "                                               index    std  \\\n0            Personal Consumprion Expenditure _ln_HP  0.008   \n1  Personal Consumprion Expenditure _ln_BXKG (6, ...  0.007   \n2  Personal Consumprion Expenditure _ln_BXKG (6, ...  0.006   \n3  Personal Consumprion Expenditure _ln_BXKG (6, ...  0.009   \n\n   Personal Consumprion Expenditure _ln_HP  \\\n0                                    1.000   \n1                                    0.891   \n2                                    0.888   \n3                                    0.890   \n\n   Personal Consumprion Expenditure _ln_BXKG (6, 40, 8)  \\\n0                                              0.891      \n1                                              1.000      \n2                                              1.000      \n3                                              0.956      \n\n   Personal Consumprion Expenditure _ln_BXKG (6, 32, 8)  \\\n0                                              0.888      \n1                                              1.000      \n2                                              1.000      \n3                                              0.950      \n\n   Personal Consumprion Expenditure _ln_BXKG (6, 40, 12)  \n0                                              0.890      \n1                                              0.956      \n2                                              0.950      \n3                                              1.000      ",
      "text/html": "<div>\n<style scoped>\n    .dataframe tbody tr th:only-of-type {\n        vertical-align: middle;\n    }\n\n    .dataframe tbody tr th {\n        vertical-align: top;\n    }\n\n    .dataframe thead th {\n        text-align: right;\n    }\n</style>\n<table border=\"1\" class=\"dataframe\">\n  <thead>\n    <tr style=\"text-align: right;\">\n      <th></th>\n      <th>index</th>\n      <th>std</th>\n      <th>Personal Consumprion Expenditure _ln_HP</th>\n      <th>Personal Consumprion Expenditure _ln_BXKG (6, 40, 8)</th>\n      <th>Personal Consumprion Expenditure _ln_BXKG (6, 32, 8)</th>\n      <th>Personal Consumprion Expenditure _ln_BXKG (6, 40, 12)</th>\n    </tr>\n  </thead>\n  <tbody>\n    <tr>\n      <th>0</th>\n      <td>Personal Consumprion Expenditure _ln_HP</td>\n      <td>0.008</td>\n      <td>1.000</td>\n      <td>0.891</td>\n      <td>0.888</td>\n      <td>0.890</td>\n    </tr>\n    <tr>\n      <th>1</th>\n      <td>Personal Consumprion Expenditure _ln_BXKG (6, ...</td>\n      <td>0.007</td>\n      <td>0.891</td>\n      <td>1.000</td>\n      <td>1.000</td>\n      <td>0.956</td>\n    </tr>\n    <tr>\n      <th>2</th>\n      <td>Personal Consumprion Expenditure _ln_BXKG (6, ...</td>\n      <td>0.006</td>\n      <td>0.888</td>\n      <td>1.000</td>\n      <td>1.000</td>\n      <td>0.950</td>\n    </tr>\n    <tr>\n      <th>3</th>\n      <td>Personal Consumprion Expenditure _ln_BXKG (6, ...</td>\n      <td>0.009</td>\n      <td>0.890</td>\n      <td>0.956</td>\n      <td>0.950</td>\n      <td>1.000</td>\n    </tr>\n  </tbody>\n</table>\n</div>"
     },
     "execution_count": 101,
     "metadata": {},
     "output_type": "execute_result"
    }
   ],
   "source": [
    "consumption_matrix = calculate_cross_corrs(data, 'Personal Consumprion Expenditure ')\n",
    "consumption_matrix"
   ],
   "metadata": {
    "collapsed": false
   }
  },
  {
   "cell_type": "code",
   "execution_count": 102,
   "outputs": [
    {
     "name": "stdout",
     "output_type": "stream",
     "text": [
      "Adfuller for  date | adf: -0.277 | p-value: 0.929\n",
      "Non-stationary\n",
      "Adfuller for  GDP Nominal | adf: 0.236 | p-value: 0.974\n",
      "Non-stationary\n",
      "Adfuller for  GDP Real | adf: -0.081 | p-value: 0.951\n",
      "Non-stationary\n",
      "Adfuller for  Private Consumtion | adf: 0.726 | p-value: 0.990\n",
      "Non-stationary\n",
      "Adfuller for  Investments | adf: -1.087 | p-value: 0.720\n",
      "Non-stationary\n",
      "Adfuller for  Residential | adf: -1.163 | p-value: 0.689\n",
      "Non-stationary\n",
      "Adfuller for  Non-Residential | adf: -1.263 | p-value: 0.646\n",
      "Non-stationary\n",
      "Adfuller for  Changes in inventories | adf: -4.105 | p-value: 0.001\n",
      "Stationary\n",
      "Adfuller for  Cumulated Chnge in iventories | adf: 0.324 | p-value: 0.978\n",
      "Non-stationary\n",
      "Adfuller for  Total export | adf: 0.844 | p-value: 0.992\n",
      "Non-stationary\n",
      "Adfuller for  Total import | adf: -0.468 | p-value: 0.898\n",
      "Non-stationary\n",
      "Adfuller for  Government Consumption Expenditures | adf: -0.083 | p-value: 0.951\n",
      "Non-stationary\n",
      "Adfuller for  GDP Deflator | adf: -1.049 | p-value: 0.735\n",
      "Non-stationary\n",
      "Adfuller for  Consumption Deflator | adf: 0.448 | p-value: 0.983\n",
      "Non-stationary\n",
      "Adfuller for  CPI, Index | adf: -1.259 | p-value: 0.648\n",
      "Non-stationary\n",
      "Adfuller for  Industrial production Index | adf: -0.598 | p-value: 0.871\n",
      "Non-stationary\n",
      "Adfuller for  Share prices | adf: 0.093 | p-value: 0.966\n",
      "Non-stationary\n",
      "Adfuller for  Unemployment | adf: -2.017 | p-value: 0.279\n",
      "Non-stationary\n",
      "Adfuller for  Personal Consumprion Expenditure  | adf: 0.726 | p-value: 0.990\n",
      "Non-stationary\n",
      "Adfuller for  GDP Real_ln | adf: -1.316 | p-value: 0.622\n",
      "Non-stationary\n",
      "Adfuller for  GDP Real_ln_BXKG (6, 40, 12) | adf: -1.982 | p-value: 0.294\n",
      "Non-stationary\n",
      "Adfuller for  GDP Real_ln_BXKG (6, 40, 8) | adf: -2.693 | p-value: 0.075\n",
      "Non-stationary\n",
      "Adfuller for  GDP Real_ln_BXKG (6, 32, 8) | adf: -3.278 | p-value: 0.016\n",
      "Stationary\n",
      "Adfuller for  GDP Real_ln_HP | adf: -2.441 | p-value: 0.131\n",
      "Non-stationary\n",
      "Adfuller for  Personal Consumprion Expenditure _ln | adf: -4.213 | p-value: 0.001\n",
      "Stationary\n",
      "Adfuller for  Personal Consumprion Expenditure _ln_BXKG (6, 40, 12) | adf: -4.272 | p-value: 0.000\n",
      "Stationary\n",
      "Adfuller for  Personal Consumprion Expenditure _ln_BXKG (6, 40, 8) | adf: -6.492 | p-value: 0.000\n",
      "Stationary\n",
      "Adfuller for  Personal Consumprion Expenditure _ln_BXKG (6, 32, 8) | adf: -6.474 | p-value: 0.000\n",
      "Stationary\n",
      "Adfuller for  Personal Consumprion Expenditure _ln_HP | adf: -4.230 | p-value: 0.001\n",
      "Stationary\n",
      "Adfuller for  CPI, Index_ln | adf: -0.761 | p-value: 0.830\n",
      "Non-stationary\n",
      "Adfuller for  CPI, Index_ln_BXKG (6, 40, 12) | adf: -2.899 | p-value: 0.046\n",
      "Stationary\n",
      "Adfuller for  CPI, Index_ln_BXKG (6, 40, 8) | adf: -2.358 | p-value: 0.154\n",
      "Non-stationary\n",
      "Adfuller for  CPI, Index_ln_BXKG (6, 32, 8) | adf: -2.369 | p-value: 0.151\n",
      "Non-stationary\n",
      "Adfuller for  CPI, Index_ln_HP | adf: -2.823 | p-value: 0.055\n",
      "Non-stationary\n"
     ]
    },
    {
     "data": {
      "text/plain": "                            index    std  CPI, Index_ln_HP  \\\n0                CPI, Index_ln_HP  0.016             1.000   \n1   CPI, Index_ln_BXKG (6, 40, 8)  0.010             0.951   \n2   CPI, Index_ln_BXKG (6, 32, 8)  0.009             0.947   \n3  CPI, Index_ln_BXKG (6, 40, 12)  0.017             0.976   \n\n   CPI, Index_ln_BXKG (6, 40, 8)  CPI, Index_ln_BXKG (6, 32, 8)  \\\n0                          0.951                          0.947   \n1                          1.000                          1.000   \n2                          1.000                          1.000   \n3                          0.966                          0.963   \n\n   CPI, Index_ln_BXKG (6, 40, 12)  \n0                           0.976  \n1                           0.966  \n2                           0.963  \n3                           1.000  ",
      "text/html": "<div>\n<style scoped>\n    .dataframe tbody tr th:only-of-type {\n        vertical-align: middle;\n    }\n\n    .dataframe tbody tr th {\n        vertical-align: top;\n    }\n\n    .dataframe thead th {\n        text-align: right;\n    }\n</style>\n<table border=\"1\" class=\"dataframe\">\n  <thead>\n    <tr style=\"text-align: right;\">\n      <th></th>\n      <th>index</th>\n      <th>std</th>\n      <th>CPI, Index_ln_HP</th>\n      <th>CPI, Index_ln_BXKG (6, 40, 8)</th>\n      <th>CPI, Index_ln_BXKG (6, 32, 8)</th>\n      <th>CPI, Index_ln_BXKG (6, 40, 12)</th>\n    </tr>\n  </thead>\n  <tbody>\n    <tr>\n      <th>0</th>\n      <td>CPI, Index_ln_HP</td>\n      <td>0.016</td>\n      <td>1.000</td>\n      <td>0.951</td>\n      <td>0.947</td>\n      <td>0.976</td>\n    </tr>\n    <tr>\n      <th>1</th>\n      <td>CPI, Index_ln_BXKG (6, 40, 8)</td>\n      <td>0.010</td>\n      <td>0.951</td>\n      <td>1.000</td>\n      <td>1.000</td>\n      <td>0.966</td>\n    </tr>\n    <tr>\n      <th>2</th>\n      <td>CPI, Index_ln_BXKG (6, 32, 8)</td>\n      <td>0.009</td>\n      <td>0.947</td>\n      <td>1.000</td>\n      <td>1.000</td>\n      <td>0.963</td>\n    </tr>\n    <tr>\n      <th>3</th>\n      <td>CPI, Index_ln_BXKG (6, 40, 12)</td>\n      <td>0.017</td>\n      <td>0.976</td>\n      <td>0.966</td>\n      <td>0.963</td>\n      <td>1.000</td>\n    </tr>\n  </tbody>\n</table>\n</div>"
     },
     "execution_count": 102,
     "metadata": {},
     "output_type": "execute_result"
    }
   ],
   "source": [
    "cpi_matrix = calculate_cross_corrs(data, 'CPI, Index')\n",
    "cpi_matrix"
   ],
   "metadata": {
    "collapsed": false
   }
  },
  {
   "cell_type": "code",
   "execution_count": 94,
   "outputs": [],
   "source": [],
   "metadata": {
    "collapsed": false
   }
  },
  {
   "cell_type": "code",
   "execution_count": null,
   "outputs": [],
   "source": [],
   "metadata": {
    "collapsed": false,
    "pycharm": {
     "is_executing": true
    }
   }
  },
  {
   "cell_type": "code",
   "execution_count": 94,
   "outputs": [],
   "source": [],
   "metadata": {
    "collapsed": false
   }
  }
 ],
 "metadata": {
  "kernelspec": {
   "display_name": "Python 3",
   "language": "python",
   "name": "python3"
  },
  "language_info": {
   "codemirror_mode": {
    "name": "ipython",
    "version": 2
   },
   "file_extension": ".py",
   "mimetype": "text/x-python",
   "name": "python",
   "nbconvert_exporter": "python",
   "pygments_lexer": "ipython2",
   "version": "2.7.6"
  }
 },
 "nbformat": 4,
 "nbformat_minor": 0
}
