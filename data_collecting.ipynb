{
 "cells": [
  {
   "cell_type": "code",
   "execution_count": 28,
   "id": "bb599fba",
   "metadata": {
    "scrolled": true
   },
   "outputs": [],
   "source": [
    "import pandas as pd\n",
    "pd.set_option('display.max_rows', 500)\n",
    "pd.set_option('display.max_columns', 500)\n",
    "pd.set_option('display.width', 1000)\n",
    "from fredapi import Fred\n",
    "from utils import crosscorr"
   ]
  },
  {
   "cell_type": "markdown",
   "id": "7f841852",
   "metadata": {},
   "source": [
    "## Отталкиваемся от GDP, так как у этого временного ряда самый широкий существующий диапазон значений "
   ]
  },
  {
   "cell_type": "code",
   "execution_count": 46,
   "id": "0afffb3d",
   "metadata": {},
   "outputs": [],
   "source": [
    "# сюда вставить свой токен с https://fred.stlouisfed.org/docs/api/api_key.html\n",
    "api_key = '2f65863001e3895e413ea46a51d481d7'\n",
    "base_series = 'GDP'\n",
    "fred = Fred(api_key = api_key)\n",
    "data = fred.get_series(base_series)\n",
    "data = pd.DataFrame({'date': data.index, base_series: data.values})\n",
    "data = data.rename(columns = {\"GDP\": \"GDP Nominal\"})"
   ]
  },
  {
   "cell_type": "markdown",
   "id": "dd4b4fc4",
   "metadata": {},
   "source": [
    "## Далее приджойниваем остальные временные ряды"
   ]
  },
  {
   "cell_type": "code",
   "execution_count": 47,
   "id": "4ec4943c",
   "metadata": {
    "scrolled": true
   },
   "outputs": [],
   "source": [
    "series_dict = {\n",
    "    \"GDPC1\": \"GDP Real\",\n",
    "    \"USAPFCEQDSMEI\": \"Private Consumtion\",\n",
    "    \"GPDI\": \"Investments\", # не сходятся значения с тем, что в файле\n",
    "    \"PRFI\": \"Residential\",\n",
    "    \"PNFI\": \"Non-Residential\",\n",
    "    \"NINVRSAXDCUSQ\": \"Changes in inventories\", # не сходятся значения с тем, что в файле\n",
    "    \"NETEXP\": \"Total export\", # не сходятся значения с тем, что в файле\n",
    "    \"IMPGS\": \"Total import\",\n",
    "    \"GCE\": \"Government Consumption Expenditures\",\n",
    "    \"CONSDEF\": \"Consumption Deflator (PCE)\",\n",
    "    \"CPIAUCSL\": \"CPI, Index\", # не сходятся значения с тем, что в файле\n",
    "#     \"CPIAUCSL\": \"Industrial production Index\",\n",
    "    \"UNRATE\": \"Unemployment\", # не сходятся значения с тем, что в файле\n",
    "    \"PCE\": \"PCE\" # не сходятся значения с тем, что в файле\n",
    "}\n",
    "\n",
    "for s in series_dict.keys():\n",
    "    series_data = fred.get_series(s)\n",
    "    series_data = pd.DataFrame({'date': series_data.index, series_dict[s]: series_data.values})\n",
    "    data = data.merge(series_data, how = \"left\", on = \"date\")\n",
    "    \n",
    "    "
   ]
  },
  {
   "cell_type": "code",
   "execution_count": 48,
   "id": "60b984b1",
   "metadata": {},
   "outputs": [],
   "source": [
    "data_needed_years = data[\n",
    "    (data[\"date\"]>=\"1970-01-01\") & \n",
    "    (data[\"date\"]<=\"2020-12-31\")\n",
    "]"
   ]
  },
  {
   "cell_type": "code",
   "execution_count": 49,
   "id": "d87e0ded",
   "metadata": {
    "scrolled": true
   },
   "outputs": [
    {
     "data": {
      "text/html": [
       "<div>\n",
       "<style scoped>\n",
       "    .dataframe tbody tr th:only-of-type {\n",
       "        vertical-align: middle;\n",
       "    }\n",
       "\n",
       "    .dataframe tbody tr th {\n",
       "        vertical-align: top;\n",
       "    }\n",
       "\n",
       "    .dataframe thead th {\n",
       "        text-align: right;\n",
       "    }\n",
       "</style>\n",
       "<table border=\"1\" class=\"dataframe\">\n",
       "  <thead>\n",
       "    <tr style=\"text-align: right;\">\n",
       "      <th></th>\n",
       "      <th>date</th>\n",
       "      <th>GDP Nominal</th>\n",
       "      <th>GDP Real</th>\n",
       "      <th>Private Consumtion</th>\n",
       "      <th>Investments</th>\n",
       "      <th>Residential</th>\n",
       "      <th>Non-Residential</th>\n",
       "      <th>Changes in inventories</th>\n",
       "      <th>Total export</th>\n",
       "      <th>Total import</th>\n",
       "      <th>Government Consumption Expenditures</th>\n",
       "      <th>Consumption Deflator (PCE)</th>\n",
       "      <th>CPI, Index</th>\n",
       "      <th>Unemployment</th>\n",
       "      <th>PCE</th>\n",
       "    </tr>\n",
       "  </thead>\n",
       "  <tbody>\n",
       "    <tr>\n",
       "      <th>96</th>\n",
       "      <td>1970-01-01</td>\n",
       "      <td>1051.200</td>\n",
       "      <td>4939.759</td>\n",
       "      <td>1.579212e+11</td>\n",
       "      <td>168.113</td>\n",
       "      <td>42.493</td>\n",
       "      <td>123.796</td>\n",
       "      <td>NaN</td>\n",
       "      <td>3.514</td>\n",
       "      <td>53.517</td>\n",
       "      <td>247.889</td>\n",
       "      <td>17.416415</td>\n",
       "      <td>37.9</td>\n",
       "      <td>3.9</td>\n",
       "      <td>628.7</td>\n",
       "    </tr>\n",
       "    <tr>\n",
       "      <th>97</th>\n",
       "      <td>1970-04-01</td>\n",
       "      <td>1067.375</td>\n",
       "      <td>4946.770</td>\n",
       "      <td>1.603925e+11</td>\n",
       "      <td>171.455</td>\n",
       "      <td>41.365</td>\n",
       "      <td>125.008</td>\n",
       "      <td>NaN</td>\n",
       "      <td>5.207</td>\n",
       "      <td>55.204</td>\n",
       "      <td>249.143</td>\n",
       "      <td>17.629837</td>\n",
       "      <td>38.5</td>\n",
       "      <td>4.6</td>\n",
       "      <td>636.0</td>\n",
       "    </tr>\n",
       "    <tr>\n",
       "      <th>98</th>\n",
       "      <td>1970-07-01</td>\n",
       "      <td>1086.059</td>\n",
       "      <td>4992.357</td>\n",
       "      <td>1.633705e+11</td>\n",
       "      <td>173.904</td>\n",
       "      <td>42.566</td>\n",
       "      <td>126.255</td>\n",
       "      <td>NaN</td>\n",
       "      <td>4.088</td>\n",
       "      <td>56.431</td>\n",
       "      <td>254.584</td>\n",
       "      <td>17.806946</td>\n",
       "      <td>38.9</td>\n",
       "      <td>5.0</td>\n",
       "      <td>648.5</td>\n",
       "    </tr>\n",
       "    <tr>\n",
       "      <th>99</th>\n",
       "      <td>1970-10-01</td>\n",
       "      <td>1088.608</td>\n",
       "      <td>4938.857</td>\n",
       "      <td>1.650402e+11</td>\n",
       "      <td>166.754</td>\n",
       "      <td>47.218</td>\n",
       "      <td>123.520</td>\n",
       "      <td>NaN</td>\n",
       "      <td>2.985</td>\n",
       "      <td>57.888</td>\n",
       "      <td>258.708</td>\n",
       "      <td>18.027467</td>\n",
       "      <td>39.4</td>\n",
       "      <td>5.5</td>\n",
       "      <td>658.3</td>\n",
       "    </tr>\n",
       "    <tr>\n",
       "      <th>100</th>\n",
       "      <td>1971-01-01</td>\n",
       "      <td>1135.156</td>\n",
       "      <td>5072.996</td>\n",
       "      <td>1.697965e+11</td>\n",
       "      <td>189.495</td>\n",
       "      <td>50.961</td>\n",
       "      <td>126.281</td>\n",
       "      <td>NaN</td>\n",
       "      <td>4.570</td>\n",
       "      <td>58.651</td>\n",
       "      <td>261.905</td>\n",
       "      <td>18.182825</td>\n",
       "      <td>39.9</td>\n",
       "      <td>5.9</td>\n",
       "      <td>676.1</td>\n",
       "    </tr>\n",
       "  </tbody>\n",
       "</table>\n",
       "</div>"
      ],
      "text/plain": [
       "          date  GDP Nominal  GDP Real  Private Consumtion  Investments  Residential  Non-Residential  Changes in inventories  Total export  Total import  Government Consumption Expenditures  Consumption Deflator (PCE)  CPI, Index  Unemployment    PCE\n",
       "96  1970-01-01     1051.200  4939.759        1.579212e+11      168.113       42.493          123.796                     NaN         3.514        53.517                              247.889                   17.416415        37.9           3.9  628.7\n",
       "97  1970-04-01     1067.375  4946.770        1.603925e+11      171.455       41.365          125.008                     NaN         5.207        55.204                              249.143                   17.629837        38.5           4.6  636.0\n",
       "98  1970-07-01     1086.059  4992.357        1.633705e+11      173.904       42.566          126.255                     NaN         4.088        56.431                              254.584                   17.806946        38.9           5.0  648.5\n",
       "99  1970-10-01     1088.608  4938.857        1.650402e+11      166.754       47.218          123.520                     NaN         2.985        57.888                              258.708                   18.027467        39.4           5.5  658.3\n",
       "100 1971-01-01     1135.156  5072.996        1.697965e+11      189.495       50.961          126.281                     NaN         4.570        58.651                              261.905                   18.182825        39.9           5.9  676.1"
      ]
     },
     "execution_count": 49,
     "metadata": {},
     "output_type": "execute_result"
    }
   ],
   "source": [
    "data_needed_years.head(5)"
   ]
  },
  {
   "cell_type": "code",
   "execution_count": 43,
   "id": "19a8ba2e",
   "metadata": {},
   "outputs": [],
   "source": [
    "data_needed_years.to_csv(\"data/Macro_data.xlsx\")"
   ]
  }
 ],
 "metadata": {
  "kernelspec": {
   "display_name": "Python 3 (ipykernel)",
   "language": "python",
   "name": "python3"
  },
  "language_info": {
   "codemirror_mode": {
    "name": "ipython",
    "version": 3
   },
   "file_extension": ".py",
   "mimetype": "text/x-python",
   "name": "python",
   "nbconvert_exporter": "python",
   "pygments_lexer": "ipython3",
   "version": "3.10.6"
  }
 },
 "nbformat": 4,
 "nbformat_minor": 5
}
